{
  "nbformat": 4,
  "nbformat_minor": 0,
  "metadata": {
    "colab": {
      "provenance": []
    },
    "kernelspec": {
      "name": "python3",
      "display_name": "Python 3"
    },
    "language_info": {
      "name": "python"
    }
  },
  "cells": [
    {
      "cell_type": "code",
      "execution_count": null,
      "metadata": {
        "id": "4PHBcbpDKPKO"
      },
      "outputs": [],
      "source": [
        "# ==============================================================================\n",
        "# БЛОК 1: ИМПОРТ БИБЛИОТЕК И НАСТРОЙКА ВИЗУАЛИЗАЦИИ\n",
        "# ==============================================================================\n",
        "import pandas as pd\n",
        "import matplotlib.pyplot as plt\n",
        "import seaborn as sns\n",
        "from IPython.display import display\n",
        "\n",
        "# Настройка для корректного отображения кириллицы на графиках\n",
        "# plt.rcParams['font.family'] = 'DejaVu Sans' # Можно выбрать другой шрифт, если установлен\n",
        "sns.set_style(\"whitegrid\")\n",
        "print(\"Библиотеки импортированы и настройки применены.\")"
      ]
    },
    {
      "cell_type": "code",
      "source": [
        "# ==============================================================================\n",
        "# БЛОК 2: ОБЪЕДИНЕНИЕ ДАННЫХ О ПУБЛИКАЦИЯХ (dataset1 + dataset2)\n",
        "# ==============================================================================\n",
        "print(\"\\n--- Шаг 1: Обработка данных о публикациях ---\")\n",
        "try:\n",
        "    df1 = pd.read_csv('dataset1.csv')\n",
        "    df2 = pd.read_csv('dataset2.csv')\n",
        "\n",
        "    # Стандартизация названий отраслей\n",
        "    df1['Industry'] = df1['Industry'].replace('Биоинформатика', 'Биофармация')\n",
        "    df2['Industry'] = df2['Industry'].replace('Биоинформатика', 'Биофармация')\n",
        "\n",
        "    # Объединение двух датафреймов\n",
        "    publications_df = pd.concat([df1, df2], ignore_index=True)\n",
        "\n",
        "    # Сохранение объединенного файла\n",
        "    publications_df.to_csv('publications.csv', index=False, encoding='utf-8-sig')\n",
        "    publications_df.to_excel('publications.xlsx', index=False)\n",
        "\n",
        "    print(\"✅ Файлы dataset1.csv и dataset2.csv успешно объединены в publications.csv и publications.xlsx.\")\n",
        "    print(f\"Итоговое количество публикаций: {len(publications_df)}\")\n",
        "    display(publications_df.head())\n",
        "\n",
        "except FileNotFoundError as e:\n",
        "    print(f\"❌ Ошибка: Не найден файл {e.filename}. Убедитесь, что все исходные файлы находятся в нужной директории.\")"
      ],
      "metadata": {
        "id": "ak-LS81mKn-r"
      },
      "execution_count": null,
      "outputs": []
    },
    {
      "cell_type": "code",
      "source": [
        "# ==============================================================================\n",
        "# БЛОК 3: ОБРАБОТКА ДАННЫХ О МЕТРИКАХ (dataset3)\n",
        "# ==============================================================================\n",
        "print(\"\\n--- Шаг 2: Обработка данных о метриках ---\")\n",
        "try:\n",
        "    metrics_df = pd.read_csv('dataset3.csv')\n",
        "\n",
        "    # Стандартизация названий отраслей\n",
        "    metrics_df['Industry'] = metrics_df['Industry'].replace('Биоинформатика', 'Биофармация')\n",
        "\n",
        "    # Сохранение очищенного файла\n",
        "    metrics_df.to_csv('metrics.csv', index=False, encoding='utf-8-sig')\n",
        "    metrics_df.to_excel('metrics.xlsx', index=False)\n",
        "\n",
        "    print(\"✅ Файл dataset3.csv очищен и сохранен как metrics.csv и metrics.xlsx.\")\n",
        "    print(f\"Итоговое количество записей о метриках: {len(metrics_df)}\")\n",
        "    display(metrics_df.head())\n",
        "\n",
        "except FileNotFoundError as e:\n",
        "    print(f\"❌ Ошибка: Не найден файл {e.filename}.\")\n"
      ],
      "metadata": {
        "id": "YWEhfmbSK2Tv"
      },
      "execution_count": null,
      "outputs": []
    },
    {
      "cell_type": "code",
      "source": [
        "# ==============================================================================\n",
        "# БЛОК 4: АНАЛИЗ И ВИЗУАЛИЗАЦИЯ ДАННЫХ О ПУБЛИКАЦИЯХ\n",
        "# ==============================================================================\n",
        "if 'publications_df' in locals():\n",
        "    print(\"\\n--- Анализ публикаций ---\")\n",
        "\n",
        "    # 1. Аналитическая таблица: Распределение по отраслям и источникам\n",
        "    publication_summary = publications_df.groupby(['Industry', 'Source']).size().unstack(fill_value=0)\n",
        "    publication_summary['Total'] = publication_summary.sum(axis=1)\n",
        "\n",
        "    print(\"\\nТаблица 1: Количество публикаций по отраслям и источникам\")\n",
        "    display(publication_summary)\n",
        "\n",
        "    # 2. Графики\n",
        "    plt.figure(figsize=(18, 6))\n",
        "\n",
        "    # График 1: Общее количество публикаций по отраслям\n",
        "    plt.subplot(1, 3, 1)\n",
        "    sns.countplot(y='Industry', data=publications_df, order=publications_df['Industry'].value_counts().index, palette='viridis')\n",
        "    plt.title('Количество публикаций по отраслям')\n",
        "    plt.xlabel('Количество')\n",
        "    plt.ylabel('Отрасль')\n",
        "\n",
        "    # График 2: Распределение по источникам\n",
        "    plt.subplot(1, 3, 2)\n",
        "    source_counts = publications_df['Source'].value_counts()\n",
        "    plt.pie(source_counts, labels=source_counts.index, autopct='%1.1f%%', startangle=140, colors=sns.color_palette('pastel'))\n",
        "    plt.title('Распределение публикаций по источникам')\n",
        "\n",
        "    # График 3: Распределение отраслей в каждом источнике\n",
        "    plt.subplot(1, 3, 3)\n",
        "    sns.countplot(x='Source', hue='Industry', data=publications_df, palette='magma')\n",
        "    plt.title('Распределение отраслей по источникам')\n",
        "    plt.xlabel('Источник')\n",
        "    plt.ylabel('Количество')\n",
        "    plt.legend(title='Отрасль')\n",
        "\n",
        "    plt.tight_layout()\n",
        "    plt.show()"
      ],
      "metadata": {
        "id": "jtJXueanKl2X"
      },
      "execution_count": null,
      "outputs": []
    },
    {
      "cell_type": "code",
      "source": [
        "# ==============================================================================\n",
        "# БЛОК 5: АНАЛИЗ И ВИЗУАЛИЗАЦИЯ ДАННЫХ О МЕТРИКАХ\n",
        "# ==============================================================================\n",
        "if 'metrics_df' in locals():\n",
        "    print(\"\\n--- Анализ метрик ---\")\n",
        "\n",
        "    # 1. Топ-15 самых частых метрик в целом\n",
        "    top_metrics_overall = metrics_df['Metric'].value_counts().nlargest(15)\n",
        "\n",
        "    print(\"\\nТаблица 2: Топ-15 самых частых метрик (в целом по всем отраслям)\")\n",
        "    display(top_metrics_overall.to_frame())\n",
        "\n",
        "    plt.figure(figsize=(10, 8))\n",
        "    sns.barplot(x=top_metrics_overall.values, y=top_metrics_overall.index, palette='rocket')\n",
        "    plt.title('Топ-15 самых частых метрик (в целом)')\n",
        "    plt.xlabel('Частота упоминания')\n",
        "    plt.ylabel('Метрика')\n",
        "    plt.show()\n",
        "\n",
        "    # 2. Топ-5 метрик для каждой отрасли\n",
        "    print(\"\\nТаблица 3: Топ-5 метрик для каждой отрасли\")\n",
        "\n",
        "    industries = ['Информатика', 'Экономика', 'Биофармация']\n",
        "\n",
        "    # Создаем фигуру с 3 подграфиками\n",
        "    fig, axes = plt.subplots(1, 3, figsize=(20, 8), sharex=True)\n",
        "    fig.suptitle('Топ-5 метрик по отраслям', fontsize=16)\n",
        "\n",
        "    for i, industry in enumerate(industries):\n",
        "        print(f\"\\n--- {industry} ---\")\n",
        "        top_metrics_industry = metrics_df[metrics_df['Industry'] == industry]['Metric'].value_counts().nlargest(5)\n",
        "        display(top_metrics_industry.to_frame())\n",
        "\n",
        "        # Визуализация\n",
        "        sns.barplot(ax=axes[i], x=top_metrics_industry.values, y=top_metrics_industry.index, palette='coolwarm')\n",
        "        axes[i].set_title(industry)\n",
        "        axes[i].set_xlabel('Частота')\n",
        "        axes[i].set_ylabel('')\n",
        "\n",
        "    plt.tight_layout(rect=[0, 0.03, 1, 0.95])\n",
        "    plt.show()"
      ],
      "metadata": {
        "id": "aWLlM0VDK7u1"
      },
      "execution_count": null,
      "outputs": []
    }
  ]
}