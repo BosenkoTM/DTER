{
  "cells": [
    {
      "cell_type": "markdown",
      "metadata": {
        "id": "-a7QmqCcuL19"
      },
      "source": [
        "# Практическая работа\n",
        "## Часть II. Генерация и анализ семантических данных"
      ],
      "id": "-a7QmqCcuL19"
    },
    {
      "cell_type": "markdown",
      "metadata": {
        "id": "qo9-EKyJuL2A"
      },
      "source": [
        "###  Основы семантических данных и графовых моделей знаний\n",
        "\n",
        "В современных экономических исследованиях объемы данных стремительно растут, и традиционные табличные методы их хранения и анализа (как в Excel) не всегда позволяют выявлять сложные, неявные связи. На смену им приходят семантические технологии и графовые модели данных, которые представляют информацию в виде сети взаимосвязанных сущностей.\n",
        "\n",
        "**Ключевые концепции:**\n",
        "\n",
        "1.  **Семантические данные (Semantic Data):** это данные, структурированные таким образом, чтобы их смысл был понятен не только человеку, но и машине. Основная идея — описывать не только сами данные, но и отношения между ними. Вместо таблицы, где связь между столбцами определяется только их положением, семантический подход явным образом определяет каждую связь.\n",
        "\n",
        "2.  **RDF (Resource Description Framework):** это стандарт W3C для представления данных в виде графа. Основной строительный блок RDF — это **триплет**, состоящий из трех компонентов:\n",
        "    *   **Субъект (Subject):** ресурс, который мы описываем (например, \"компания за 2017 год\").\n",
        "    *   **Предикат (Predicate):** свойство или тип отношения, которое связывает субъект и объект (например, \"имеет доход\").\n",
        "    *   **Объект (Object):** значение свойства или другой ресурс (например, \"350 млн. руб.\").\n",
        "\n",
        "    *Пример триплета:* `<Год_2017> <имеет_доход> \"350\"`.\n",
        "\n",
        "3.  **Граф знаний (Knowledge Graph):** это сеть, состоящая из множества RDF-триплетов. Она позволяет моделировать сложные доменные области (например, экономику предприятия), где все сущности (годы, доходы, расходы, инвестиции) и их взаимосвязи представлены в виде узлов и ребер графа. Такой подход обеспечивает гибкость и масштабируемость анализа.\n",
        "\n",
        "4.  **Онтологии (RDFS, OWL):** для придания данным единообразия и формализации используются онтологии — словари, которые определяют классы сущностей (например, `ФинансовыйПоказатель`, `ГодовойОтчет`) и типы отношений между ними (`имеетДоход`, `связанСИнвестициями`). Это позволяет стандартизировать описание данных и выполнять логический вывод новых знаний.\n",
        "\n",
        "5.  **SPARQL (SPARQL Protocol and RDF Query Language):** это язык запросов, аналогичный SQL, но предназначенный для работы с RDF-графами. С помощью SPARQL можно извлекать данные, находить паттерны и выполнять сложные аналитические запросы к графу знаний, которые были бы затруднительны в реляционной модели.\n",
        "\n",
        "В этой практической работе мы преобразуем табличные экономические данные в семантический RDF-граф и научимся извлекать из него знания с помощью запросов SPARQL."
      ],
      "id": "qo9-EKyJuL2A"
    },
    {
      "cell_type": "markdown",
      "metadata": {
        "id": "PFpco59vuL2B"
      },
      "source": [
        "## Шаг 1. Подготовка среды и данных\n",
        "\n",
        "Сначала установим библиотеку `rdflib`, которая является основным инструментом в Python для работы с RDF-данными."
      ],
      "id": "PFpco59vuL2B"
    },
    {
      "cell_type": "code",
      "execution_count": null,
      "metadata": {
        "id": "j2kloPbYuL2B"
      },
      "outputs": [],
      "source": [
        "!pip install rdflib"
      ],
      "id": "j2kloPbYuL2B"
    },
    {
      "cell_type": "markdown",
      "metadata": {
        "id": "Tr82IaltuL2C"
      },
      "source": [
        "Теперь импортируем все необходимые модули и загрузим наши исходные данные в DataFrame библиотеки `pandas` для удобства."
      ],
      "id": "Tr82IaltuL2C"
    },
    {
      "cell_type": "code",
      "execution_count": null,
      "metadata": {
        "id": "zwfu1-XIuL2D"
      },
      "outputs": [],
      "source": [
        "import pandas as pd\n",
        "from rdflib import Graph, Literal, RDF, RDFS, Namespace, URIRef\n",
        "from rdflib.namespace import XSD\n",
        "\n",
        "# Исходные данные в виде словаря\n",
        "data = {\n",
        "    'Год': [2016, 2017, 2018, 2019, 2020, 2021, 2022],\n",
        "    'Доходы, млн. руб.': [300, 350, 400, 420, 450, 480, 500],\n",
        "    'Расходы, млн. руб.': [200, 210, 240, 250, 270, 290, 300],\n",
        "    'Прибыль, млн. руб.': [100, 140, 160, 170, 180, 190, 200],\n",
        "    'Инвестиции, млн. руб.': [50, 70, 90, 110, 120, 130, 140]\n",
        "}\n",
        "df = pd.DataFrame(data)\n",
        "\n",
        "print(\"Исходные данные:\")\n",
        "print(df)"
      ],
      "id": "zwfu1-XIuL2D"
    },
    {
      "cell_type": "markdown",
      "metadata": {
        "id": "CQfQTJW_uL2D"
      },
      "source": [
        "## Шаг 2. Определение онтологии (пространства имен)\n",
        "\n",
        "Чтобы наши данные в графе были структурированными, мы определим пространства имен (namespaces). Это как префиксы для наших будущих URI.\n",
        "\n",
        "*   `EX` (example) - для уникальных экземпляров наших данных (например, для отчета за конкретный год).\n",
        "*   `SCHEMA` - для описания схемы данных: классов (типов сущностей) и предикатов (свойств)."
      ],
      "id": "CQfQTJW_uL2D"
    },
    {
      "cell_type": "code",
      "execution_count": 3,
      "metadata": {
        "id": "j7KlEwotuL2E"
      },
      "outputs": [],
      "source": [
        "# Пространство имен для наших данных\n",
        "EX = Namespace(\"http://example.org/economicdata/\")\n",
        "# Пространство имен для нашей простой онтологии (свойств и классов)\n",
        "SCHEMA = Namespace(\"http://example.org/schema#\")"
      ],
      "id": "j7KlEwotuL2E"
    },
    {
      "cell_type": "markdown",
      "metadata": {
        "id": "vYsrfGNTuL2E"
      },
      "source": [
        "## Шаг 3. Создание и наполнение RDF-графа\n",
        "\n",
        "На этом шаге мы:\n",
        "1.  Создаем пустой граф `g`.\n",
        "2.  Привязываем к нему наши префиксы для удобного вывода.\n",
        "3.  Определяем базовую схему (онтологию): создаем класс `YearlyReport` (Годовой отчет) и свойства `income` (доход), `expenses` (расходы) и т.д.\n",
        "4.  Проходим в цикле по каждой строке нашего DataFrame и преобразуем ее в набор RDF-триплетов, которые добавляем в граф."
      ],
      "id": "vYsrfGNTuL2E"
    },
    {
      "cell_type": "code",
      "execution_count": null,
      "metadata": {
        "id": "6_AWKU6TuL2E"
      },
      "outputs": [],
      "source": [
        "g = Graph()\n",
        "g.bind(\"ex\", EX)\n",
        "g.bind(\"schema\", SCHEMA)\n",
        "g.bind(\"rdfs\", RDFS)\n",
        "\n",
        "# Определяем классы и свойства в нашей \"схеме\"\n",
        "g.add((SCHEMA.YearlyReport, RDF.type, RDFS.Class))\n",
        "g.add((SCHEMA.income, RDF.type, RDF.Property))\n",
        "g.add((SCHEMA.expenses, RDF.type, RDF.Property))\n",
        "g.add((SCHEMA.profit, RDF.type, RDF.Property))\n",
        "g.add((SCHEMA.investments, RDF.type, RDF.Property))\n",
        "g.add((SCHEMA.year, RDF.type, RDF.Property))\n",
        "\n",
        "# Добавляем данные из DataFrame в граф\n",
        "for index, row in df.iterrows():\n",
        "    year = row['Год']\n",
        "    # Создаем уникальный ресурс (URI) для каждого годового отчета\n",
        "    report_uri = EX[f'report_{year}']\n",
        "\n",
        "    # Добавляем триплеты в граф\n",
        "    g.add((report_uri, RDF.type, SCHEMA.YearlyReport)) # Указываем, что это экземпляр класса YearlyReport\n",
        "    g.add((report_uri, SCHEMA.year, Literal(year, datatype=XSD.gYear)))\n",
        "    g.add((report_uri, SCHEMA.income, Literal(row['Доходы, млн. руб.'], datatype=XSD.integer)))\n",
        "    g.add((report_uri, SCHEMA.expenses, Literal(row['Расходы, млн. руб.'], datatype=XSD.integer)))\n",
        "    g.add((report_uri, SCHEMA.profit, Literal(row['Прибыль, млн. руб.'], datatype=XSD.integer)))\n",
        "    g.add((report_uri, SCHEMA.investments, Literal(row['Инвестиции, млн. руб.'], datatype=XSD.integer)))\n",
        "\n",
        "print(f\"Граф успешно создан. Количество триплетов: {len(g)}\")"
      ],
      "id": "6_AWKU6TuL2E"
    },
    {
      "cell_type": "markdown",
      "metadata": {
        "id": "UN5JxGhouL2F"
      },
      "source": [
        "## Шаг 4. Сериализация и просмотр графа\n",
        "\n",
        "\"Сериализация\" — это процесс преобразования графа из памяти в текстовый формат. Мы будем использовать формат `Turtle` (.ttl), так как он очень удобен для чтения человеком. Это позволит нам увидеть, как наши табличные данные теперь представлены в виде семантических связей."
      ],
      "id": "UN5JxGhouL2F"
    },
    {
      "cell_type": "code",
      "execution_count": null,
      "metadata": {
        "id": "sgBSaiQEuL2F"
      },
      "outputs": [],
      "source": [
        "# Вывод графа в формате Turtle\n",
        "print(g.serialize(format=\"turtle\"))"
      ],
      "id": "sgBSaiQEuL2F"
    },
    {
      "cell_type": "markdown",
      "metadata": {
        "id": "Y0oyIFBEuL2F"
      },
      "source": [
        "## Шаг 5. Анализ данных с помощью SPARQL-запросов\n",
        "\n",
        "SPARQL — это язык запросов к RDF-графам, аналог SQL для реляционных баз данных. С его помощью мы можем извлекать сложные срезы данных и находить неочевидные связи.\n",
        "\n",
        "### Запрос 1: Найти все финансовые показатели за 2020 год.\n",
        "Этот запрос находит узел, у которого свойство `schema:year` равно \"2020\", и извлекает все связанные с ним финансовые показатели."
      ],
      "id": "Y0oyIFBEuL2F"
    },
    {
      "cell_type": "code",
      "execution_count": null,
      "metadata": {
        "id": "yk7PNaGnuL2F"
      },
      "outputs": [],
      "source": [
        "q1 = \"\"\"\n",
        "PREFIX schema: <http://example.org/schema#>\n",
        "PREFIX xsd: <http://www.w3.org/2001/XMLSchema#>\n",
        "\n",
        "SELECT ?income ?expenses ?profit ?investments\n",
        "WHERE {\n",
        "    ?report schema:year \"2020\"^^xsd:gYear .\n",
        "    ?report schema:income ?income .\n",
        "    ?report schema:expenses ?expenses .\n",
        "    ?report schema:profit ?profit .\n",
        "    ?report schema:investments ?investments .\n",
        "}\n",
        "\"\"\"\n",
        "\n",
        "print(\"Результаты запроса 1 (показатели за 2020 год):\")\n",
        "for row in g.query(q1):\n",
        "    print(f\"Доходы: {row.income}, Расходы: {row.expenses}, Прибыль: {row.profit}, Инвестиции: {row.investments}\")"
      ],
      "id": "yk7PNaGnuL2F"
    },
    {
      "cell_type": "markdown",
      "metadata": {
        "id": "p6MA9ChMuL2F"
      },
      "source": [
        "### Запрос 2: Найти годы, когда инвестиции превысили 100 млн. руб., и отсортировать их по убыванию прибыли.\n",
        "\n",
        "Здесь мы используем `FILTER` для отбора данных по условию и `ORDER BY DESC()` для сортировки результатов."
      ],
      "id": "p6MA9ChMuL2F"
    },
    {
      "cell_type": "code",
      "execution_count": null,
      "metadata": {
        "id": "8FLnM1F2uL2G"
      },
      "outputs": [],
      "source": [
        "q2 = \"\"\"\n",
        "PREFIX schema: <http://example.org/schema#>\n",
        "\n",
        "SELECT ?year ?profit ?investments\n",
        "WHERE {\n",
        "    ?report schema:year ?year .\n",
        "    ?report schema:profit ?profit .\n",
        "    ?report schema:investments ?investments .\n",
        "    FILTER(?investments > 100)\n",
        "}\n",
        "ORDER BY DESC(?profit)\n",
        "\"\"\"\n",
        "\n",
        "print(\"\\nРезультаты запроса 2 (годы с инвестициями > 100 млн. руб.):\")\n",
        "for row in g.query(q2):\n",
        "    print(f\"Год: {row.year}, Прибыль: {row.profit}, Инвестиции: {row.investments}\")"
      ],
      "id": "8FLnM1F2uL2G"
    },
    {
      "cell_type": "markdown",
      "metadata": {
        "id": "cuhSrYzQuL2G"
      },
      "source": [
        "### Задание для отчета: собственный аналитический запрос\n",
        "\n",
        "Теперь ваша задача — составить собственный, более сложный запрос.\n",
        "\n",
        "**Пример:** Рассчитать рентабельность (`Прибыль / Доходы`) прямо в запросе и вывести топ-3 самых рентабельных года. Для этого можно использовать вычисления внутри `SELECT` и оператор `LIMIT`."
      ],
      "id": "cuhSrYzQuL2G"
    },
    {
      "cell_type": "code",
      "source": [
        "g = Graph()\n",
        "g.bind(\"ex\", EX)\n",
        "g.bind(\"schema\", SCHEMA)\n",
        "g.bind(\"rdfs\", RDFS)\n",
        "\n",
        "# Определяем классы и свойства в нашей \"схеме\"\n",
        "g.add((SCHEMA.YearlyReport, RDF.type, RDFS.Class))\n",
        "g.add((SCHEMA.income, RDF.type, RDF.Property))\n",
        "g.add((SCHEMA.expenses, RDF.type, RDF.Property))\n",
        "g.add((SCHEMA.profit, RDF.type, RDF.Property))\n",
        "g.add((SCHEMA.investments, RDF.type, RDF.Property))\n",
        "g.add((SCHEMA.year, RDF.type, RDF.Property))\n",
        "\n",
        "# Добавляем данные из DataFrame в граф\n",
        "for index, row in df.iterrows():\n",
        "    year = row['Год']\n",
        "    report_uri = EX[f'report_{year}']\n",
        "\n",
        "    # ИСПРАВЛЕНИЕ: Преобразуем numpy.int64 в стандартный int()\n",
        "    g.add((report_uri, RDF.type, SCHEMA.YearlyReport))\n",
        "    g.add((report_uri, SCHEMA.year, Literal(year, datatype=XSD.gYear)))\n",
        "    g.add((report_uri, SCHEMA.income, Literal(int(row['Доходы, млн. руб.']), datatype=XSD.integer)))\n",
        "    g.add((report_uri, SCHEMA.expenses, Literal(int(row['Расходы, млн. руб.']), datatype=XSD.integer)))\n",
        "    g.add((report_uri, SCHEMA.profit, Literal(int(row['Прибыль, млн. руб.']), datatype=XSD.integer)))\n",
        "    g.add((report_uri, SCHEMA.investments, Literal(int(row['Инвестиции, млн. руб.']), datatype=XSD.integer)))\n",
        "\n",
        "print(f\"Граф успешно создан. Количество триплетов: {len(g)}\")"
      ],
      "metadata": {
        "id": "SDIIW-HMu7cu"
      },
      "id": "SDIIW-HMu7cu",
      "execution_count": null,
      "outputs": []
    },
    {
      "cell_type": "code",
      "source": [
        "q3 = \"\"\"\n",
        "PREFIX schema: <http://example.org/schema#>\n",
        "\n",
        "SELECT ?year ?profit ?income ((?profit / ?income) * 100 AS ?profitability)\n",
        "WHERE {\n",
        "    ?report schema:year ?year .\n",
        "    ?report schema:profit ?profit .\n",
        "    ?report schema:income ?income .\n",
        "}\n",
        "ORDER BY DESC(?profitability)\n",
        "LIMIT 3\n",
        "\"\"\"\n",
        "\n",
        "print(\"\\nРезультаты запроса 3 (топ-3 рентабельных года):\")\n",
        "\n",
        "# Выполнение запроса и вывод результатов\n",
        "for row in g.query(q3):\n",
        "    # row.profitability - это rdflib.term.Literal, его нужно привести к float для форматирования\n",
        "    print(f\"Год: {row.year}, Рентабельность: {float(row.profitability):.2f}%\")"
      ],
      "metadata": {
        "id": "jJwH_RskvXAz"
      },
      "id": "jJwH_RskvXAz",
      "execution_count": null,
      "outputs": []
    },
    {
      "cell_type": "code",
      "source": [
        "!pip install pyvis"
      ],
      "metadata": {
        "id": "Fg6d45tAvu4B"
      },
      "id": "Fg6d45tAvu4B",
      "execution_count": null,
      "outputs": []
    },
    {
      "cell_type": "code",
      "source": [
        "from pyvis.network import Network\n",
        "import webbrowser\n",
        "import os\n",
        "\n",
        "# Создаем объект сети pyvis\n",
        "net = Network(notebook=True, cdn_resources='in_line', height=\"600px\", width=\"100%\")\n",
        "\n",
        "# Функция для сокращения длинных URI для наглядности\n",
        "def short_name(uri):\n",
        "    if isinstance(uri, URIRef):\n",
        "        return uri.split('/')[-1].split('#')[-1]\n",
        "    else:\n",
        "        # Для Literal возвращаем само значение\n",
        "        return str(uri)\n",
        "\n",
        "# Добавляем узлы и ребра из нашего графа g\n",
        "for s, p, o in g:\n",
        "    subject_name = short_name(s)\n",
        "    predicate_name = short_name(p)\n",
        "    object_name = short_name(o)\n",
        "\n",
        "    # Добавляем узлы\n",
        "    net.add_node(subject_name, label=subject_name, title=str(s), color=\"#4E8CF5\") # Субъекты - синие\n",
        "    net.add_node(object_name, label=object_name, title=str(o), color=\"#F5A623\")  # Объекты - оранжевые\n",
        "\n",
        "    # Добавляем ребро\n",
        "    net.add_edge(subject_name, object_name, label=predicate_name)\n",
        "\n",
        "# Устанавливаем физические параметры для лучшего отображения\n",
        "net.repulsion(node_distance=150, spring_length=200)\n",
        "\n",
        "# Генерируем и отображаем HTML файл с графом\n",
        "try:\n",
        "    file_path = 'knowledge_graph.html'\n",
        "    net.show(file_path)\n",
        "    print(f\"Интерактивный граф сохранен в файл: {file_path}\")\n",
        "    print(\"Откройте его, чтобы исследовать связи (в Google Colab файл появится в панели слева).\")\n",
        "except Exception as e:\n",
        "    print(f\"Ошибка при отображении графа: {e}\")"
      ],
      "metadata": {
        "id": "yhm30saEvxSL"
      },
      "id": "yhm30saEvxSL",
      "execution_count": null,
      "outputs": []
    },
    {
      "cell_type": "markdown",
      "source": [
        "## Шаг 7. Визуализация аналитических данных\n",
        "\n",
        "Теперь визуализируем результаты нашего SPARQL-анализа. Построим гистограмму, показывающую динамику рентабельности по годам. Для этого сначала выполним SPARQL-запрос, чтобы получить данные о рентабельности за *все* годы, а затем используем `matplotlib` для построения графика."
      ],
      "metadata": {
        "id": "3JOXAgrYv6XG"
      },
      "id": "3JOXAgrYv6XG"
    },
    {
      "cell_type": "code",
      "source": [
        "import matplotlib.pyplot as plt\n",
        "import pandas as pd\n",
        "\n",
        "# SPARQL-запрос для получения рентабельности за все годы\n",
        "q_all_profitability = \"\"\"\n",
        "PREFIX schema: <http://example.org/schema#>\n",
        "\n",
        "SELECT ?year ((?profit / ?income) * 100 AS ?profitability)\n",
        "WHERE {\n",
        "    ?report schema:year ?year .\n",
        "    ?report schema:profit ?profit .\n",
        "    ?report schema:income ?income .\n",
        "}\n",
        "ORDER BY ?year\n",
        "\"\"\"\n",
        "\n",
        "# Выполняем запрос и собираем результаты\n",
        "results = g.query(q_all_profitability)\n",
        "\n",
        "# Преобразуем результаты в DataFrame для удобства\n",
        "data_for_plot = []\n",
        "for row in results:\n",
        "    data_for_plot.append({\n",
        "        'Год': int(row.year),\n",
        "        'Рентабельность': float(row.profitability)\n",
        "    })\n",
        "\n",
        "df_plot = pd.DataFrame(data_for_plot)\n",
        "\n",
        "# Строим график\n",
        "plt.figure(figsize=(10, 6))\n",
        "plt.bar(df_plot['Год'], df_plot['Рентабельность'], color='skyblue')\n",
        "\n",
        "# Добавляем подписи и заголовок\n",
        "plt.xlabel(\"Год\", fontsize=12)\n",
        "plt.ylabel(\"Рентабельность (%)\", fontsize=12)\n",
        "plt.title(\"Динамика рентабельности по годам\", fontsize=16)\n",
        "plt.grid(axis='y', linestyle='--', alpha=0.7)\n",
        "plt.xticks(df_plot['Год']) # Убедимся, что все годы отображены на оси X\n",
        "plt.ylim(0, 50) # Устанавливаем предел для оси Y для наглядности\n",
        "\n",
        "# Показываем график\n",
        "plt.show()"
      ],
      "metadata": {
        "id": "zjO8VANAv71x"
      },
      "id": "zjO8VANAv71x",
      "execution_count": null,
      "outputs": []
    },
    {
      "cell_type": "markdown",
      "source": [
        "## Выводы по Части II\n",
        "\n",
        "Вторая часть практической работы продемонстрировала фундаментально иной подход к представлению и анализу данных по сравнению с традиционными табличными методами, используемыми в Excel. Преобразование экономических показателей в граф знаний и использование языка SPARQL позволило выявить как сильные стороны семантического подхода, так и его особенности.\n",
        "\n",
        "**1. Гибкость и расширяемость модели данных.**\n",
        "В отличие от строгой структуры Excel-таблицы, графовая модель оказалась чрезвычайно гибкой. Мы смогли определить сущности («Годовой отчет») и их свойства (`доход`, `прибыль`), не привязываясь к колонкам. Если бы потребовалось добавить новые, неструктурированные данные (например, «ключевое событие года» или «ответственный менеджер»), это можно было бы сделать, просто добавив новые триплеты, не изменяя существующую схему. В Excel это потребовало бы введения новых столбцов, которые для многих строк остались бы пустыми.\n",
        "\n",
        "**2. Мощь и выразительность аналитических запросов.**\n",
        "Язык SPARQL позволил выполнять запросы, которые в Excel потребовали бы сложных многоступенчатых фильтров, сортировок и вспомогательных вычислений. Запрос на расчет рентабельности и поиск топ-3 годов был выполнен одной компактной операцией. SPARQL позволяет формулировать вопросы к данным на уровне их смысла и связей («найди мне годы, где X больше Y и связано с Z»), а не на уровне операций с ячейками.\n",
        "\n",
        "**3. Явное представление знаний.**\n",
        "Ключевое преимущество графа в том, что отношения между данными (`schema:income`, `rdf:type`) являются полноправными элементами модели. Это делает смысл данных понятным для машинной обработки и позволяет строить системы, способные делать логические выводы. Таблица Excel, напротив, хранит данные, но их семантика и взаимосвязи остаются вне самой таблицы, в голове аналитика.\n",
        "\n",
        "**4. Наглядность сложных связей.**\n",
        "Интерактивная визуализация графа показала, что все данные представляют собой единую сеть. Хотя наш пример был простым, в реальных задачах, где десятки сущностей (компании, проекты, сотрудники, рынки) связаны друг с другом, именно графовая визуализация помогает находить неочевидные зависимости и \"узкие места\".\n",
        "\n",
        "**Заключение:**\n",
        "Подход, основанный на графах знаний, является мощным инструментом для аспиранта-исследователя в области менеджмента. Он требует более высокого порога входа по сравнению с Excel, но предоставляет несравнимо большие возможности для глубокого анализа сложных, взаимосвязанных экономических и управленческих систем. Этот метод идеально подходит для интеграции разнородных данных, выявления скрытых паттернов и построения интеллектуальных аналитических систем, что является передовым краем цифровых технологий в экономических исследованиях."
      ],
      "metadata": {
        "id": "ff9_H0EuwKNn"
      },
      "id": "ff9_H0EuwKNn"
    },
    {
      "cell_type": "markdown",
      "metadata": {
        "id": "K-cb5P7puL2G"
      },
      "source": [
        "## Выводы и сравнение подходов\n",
        "\n",
        "В заключительной части отчета проанализируйте проделанную работу.\n",
        "\n",
        "1.  **Сравните табличный (Excel) и графовый (RDF/SPARQL) подходы.**\n",
        "    *   **Excel:** в чем его сильные стороны (наглядность, простота базовых операций)? В чем ограничения (сложность запросов, негибкость структуры)?\n",
        "    *   **RDF/SPARQL:** какие преимущества дает графовая модель (гибкость схемы, возможность описывать сложные связи, мощный язык запросов)? Какие у нее недостатки (более высокий порог входа, избыточность для простых задач)?\n",
        "2.  **Подумайте, как можно было бы расширить онтологию.** Какие еще сущности и связи можно было бы добавить для более глубокого экономического анализа (например, связать инвестиции с конкретными проектами, добавить данные о сотрудниках, рыночных индексах и т.д.)?"
      ],
      "id": "K-cb5P7puL2G"
    }
  ],
  "metadata": {
    "colab": {
      "provenance": []
    },
    "kernelspec": {
      "display_name": "Python 3",
      "name": "python3"
    },
    "language_info": {
      "name": "python"
    }
  },
  "nbformat": 4,
  "nbformat_minor": 5
}