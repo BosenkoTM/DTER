{
  "cells": [
    {
      "cell_type": "markdown",
      "metadata": {
        "id": "eDI9dZ6lUeBU"
      },
      "source": [
        "# Задание 5: Прогнозное моделирование в HR-аналитике\n",
        "\n",
        "**Цель:** Продемонстрировать навыки построения и оценки простой модели машинного обучения для решения управленческой задачи (прогнозирование увольнения сотрудников)."
      ]
    },
    {
      "cell_type": "markdown",
      "metadata": {
        "id": "RiV6kV6AUeBW"
      },
      "source": [
        "## Исходные данные\n",
        "\n",
        "Ниже сгенерирован датасет, содержащий информацию о сотрудниках компании, включая факторы, которые могут влиять на их решение об увольнении (`left_company`)."
      ]
    },
    {
      "cell_type": "code",
      "execution_count": null,
      "metadata": {
        "id": "GPjQzWR-UeBW"
      },
      "outputs": [],
      "source": [
        "import pandas as pd\n",
        "import numpy as np\n",
        "import matplotlib.pyplot as plt\n",
        "import seaborn as sns\n",
        "from sklearn.model_selection import train_test_split\n",
        "from sklearn.linear_model import LogisticRegression\n",
        "from sklearn.metrics import accuracy_score, confusion_matrix\n",
        "\n",
        "# Генерация данных\n",
        "np.random.seed(42)\n",
        "data = {\n",
        "    'satisfaction_level': np.random.rand(200),\n",
        "    'last_evaluation': np.random.rand(200),\n",
        "    'number_project': np.random.randint(2, 7, 200),\n",
        "    'average_monthly_hours': np.random.randint(100, 300, 200),\n",
        "    'time_spend_company': np.random.randint(2, 10, 200),\n",
        "    'work_accident': np.random.randint(0, 2, 200)\n",
        "}\n",
        "df_hr = pd.DataFrame(data)\n",
        "\n",
        "# Создание целевой переменной (упрощенная логика)\n",
        "df_hr['left_company'] = (\n",
        "    (df_hr['satisfaction_level'] < 0.4) & (df_hr['time_spend_company'] > 5) |\n",
        "    (df_hr['average_monthly_hours'] > 250) & (df_hr['last_evaluation'] < 0.5)\n",
        ").astype(int)\n",
        "\n",
        "print(\"Фрагмент датасета:\")\n",
        "display(df_hr.head())"
      ]
    },
    {
      "cell_type": "markdown",
      "metadata": {
        "id": "U_7Q4A13UeBX"
      },
      "source": [
        "### Задача 1: Исследовательский анализ данных (EDA)\n",
        "\n",
        "1.  Выведите основную информацию о датасете (`.info()`, `.describe()`).\n",
        "2.  Постройте **countplot** для целевой переменной `left_company`, чтобы увидеть баланс классов.\n",
        "3.  Постройте **boxplot**, чтобы сравнить распределение `satisfaction_level` для уволившихся и оставшихся сотрудников."
      ]
    },
    {
      "cell_type": "code",
      "execution_count": null,
      "metadata": {
        "id": "mXDIBv4aUeBX"
      },
      "outputs": [],
      "source": [
        "# Ваш код для вывода основной информации\n",
        "\n",
        "# Ваш код для countplot\n",
        "\n",
        "# Ваш код для boxplot\n"
      ]
    },
    {
      "cell_type": "markdown",
      "metadata": {
        "id": "QO0YuODxUeBX"
      },
      "source": [
        "### Задача 2: Подготовка данных и обучение модели\n",
        "\n",
        "1.  Определите признаки (`X`) и целевую переменную (`y`).\n",
        "2.  Разделите данные на обучающую и тестовую выборки в соотношении 80/20. Используйте `random_state=42` для воспроизводимости.\n",
        "3.  Обучите модель `LogisticRegression`."
      ]
    },
    {
      "cell_type": "code",
      "execution_count": null,
      "metadata": {
        "id": "7X6LyE5tUeBX"
      },
      "outputs": [],
      "source": [
        "# Ваш код для определения X и y\n",
        "X = df_hr.drop('left_company', axis=1)\n",
        "y = df_hr['left_company']\n",
        "\n",
        "# Ваш код для разделения данных\n",
        "X_train, X_test, y_train, y_test = train_test_split(X, y, test_size=0.2, random_state=42)\n",
        "\n",
        "# Ваш код для обучения модели\n",
        "model = LogisticRegression(max_iter=1000)\n",
        "model.fit(X_train, y_train)"
      ]
    },
    {
      "cell_type": "markdown",
      "metadata": {
        "id": "pfzPaarJUeBX"
      },
      "source": [
        "### Задача 3: Оценка модели\n",
        "\n",
        "1.  Сделайте предсказания на тестовой выборке.\n",
        "2.  Рассчитайте **точность (accuracy)** модели.\n",
        "3.  Постройте **матрицу ошибок (confusion matrix)** и визуализируйте ее с помощью `heatmap`."
      ]
    },
    {
      "cell_type": "code",
      "execution_count": null,
      "metadata": {
        "id": "PxRlCr56UeBY"
      },
      "outputs": [],
      "source": [
        "# Ваш код для предсказаний\n",
        "y_pred = model.predict(X_test)\n",
        "\n",
        "# Ваш код для расчета точности\n",
        "accuracy = accuracy_score(y_test, y_pred)\n",
        "print(f\"Точность модели: {accuracy:.2f}\")\n",
        "\n",
        "# Ваш код для матрицы ошибок\n",
        "cm = confusion_matrix(y_test, y_pred)\n",
        "sns.heatmap(cm, annot=True, fmt='d', cmap='Blues')\n",
        "plt.xlabel('Предсказанные значения')\n",
        "plt.ylabel('Истинные значения')\n",
        "plt.title('Матрица ошибок')\n",
        "plt.show()"
      ]
    },
    {
      "cell_type": "markdown",
      "metadata": {
        "id": "F3FMyinjUeBY"
      },
      "source": [
        "### Задача 4: Управленческий вывод\n",
        "\n",
        "На основе проведенного анализа и оценки модели, ответьте на следующие вопросы:\n",
        "1.  Насколько хорошо модель справляется с задачей прогнозирования? (Оцените точность и матрицу ошибок).\n",
        "2.  Какие факторы, судя по EDA, наиболее сильно связаны с увольнением сотрудников?\n",
        "3.  Какие практические шаги мог бы предпринять HR-менеджер, используя результаты этой модели, для снижения текучести кадров?"
      ]
    },
    {
      "cell_type": "markdown",
      "metadata": {
        "id": "V1A6zgQXUeBY"
      },
      "source": [
        "**Ваш вывод:**\n",
        "\n",
        "*"
      ]
    }
  ],
  "metadata": {
    "kernelspec": {
      "display_name": "Python 3",
      "language": "python",
      "name": "python3"
    },
    "language_info": {
      "name": "python",
      "version": "3.9.12"
    },
    "colab": {
      "provenance": []
    }
  },
  "nbformat": 4,
  "nbformat_minor": 0
}