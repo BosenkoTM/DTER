{
  "cells": [
    {
      "cell_type": "markdown",
      "metadata": {
        "id": "6iWy9dIPUH-b"
      },
      "source": [
        "# Задание 4: Сравнительный статистический анализ рыночных данных\n",
        "\n",
        "**Цель:** Применить методы описательной и корреляционной статистики для сравнения рыночной эффективности двух компаний-конкурентов."
      ]
    },
    {
      "cell_type": "markdown",
      "metadata": {
        "id": "sZnKGmcrUH-d"
      },
      "source": [
        "## Исходные данные\n",
        "\n",
        "Вам предоставлены два CSV-файла с историческими данными по котировкам акций двух технологических компаний: `company_A.csv` (условно, \"AlphaTech\") и `company_B.csv` (условно, \"BetaSolutions\")."
      ]
    },
    {
      "cell_type": "code",
      "execution_count": null,
      "metadata": {
        "id": "sUNG5s91UH-d"
      },
      "outputs": [],
      "source": [
        "import pandas as pd\n",
        "import matplotlib.pyplot as plt\n",
        "import seaborn as sns\n",
        "from io import StringIO\n",
        "\n",
        "# --- Исходные данные ---\n",
        "company_a_data = \"\"\"\n",
        "Date,Close,Volume\n",
        "2023-10-01,150.5,1000000\n",
        "2023-10-02,152.0,1200000\n",
        "2023-10-03,151.0,1100000\n",
        "2023-10-04,155.0,1500000\n",
        "2023-10-05,153.5,1300000\n",
        "\"\"\"\n",
        "\n",
        "company_b_data = \"\"\"\n",
        "Date,Close,Volume\n",
        "2023-10-01,300.0,500000\n",
        "2023-10-02,301.0,600000\n",
        "2023-10-03,298.0,550000\n",
        "2023-10-04,305.0,700000\n",
        "2023-10-05,302.0,650000\n",
        "\"\"\"\n",
        "\n",
        "df_a = pd.read_csv(StringIO(company_a_data), parse_dates=['Date'])\n",
        "df_b = pd.read_csv(StringIO(company_b_data), parse_dates=['Date'])\n",
        "\n",
        "print(\"Данные по AlphaTech:\")\n",
        "display(df_a)\n",
        "print(\"\\nДанные по BetaSolutions:\")\n",
        "display(df_b)"
      ]
    },
    {
      "cell_type": "markdown",
      "metadata": {
        "id": "ZH0DABJlUH-e"
      },
      "source": [
        "### Задача 1: Описательные статистики\n",
        "\n",
        "Для каждой компании рассчитайте и выведите основные описательные статистики для цен закрытия (`Close`). Используйте метод `.describe()`."
      ]
    },
    {
      "cell_type": "code",
      "execution_count": null,
      "metadata": {
        "id": "W3jrLIQCUH-e"
      },
      "outputs": [],
      "source": [
        "# Ваш код для расчета описательных статистик\n",
        "desc_a = df_a['Close'].describe()\n",
        "desc_b = df_b['Close'].describe()\n",
        "\n",
        "print(\"--- Описательные статистики AlphaTech ---\")\n",
        "print(desc_a)\n",
        "print(\"\\n--- Описательные статистики BetaSolutions ---\")\n",
        "print(desc_b)"
      ]
    },
    {
      "cell_type": "markdown",
      "metadata": {
        "id": "AmXbhU0QUH-e"
      },
      "source": [
        "### Задача 2: Расчет доходности и волатильности\n",
        "\n",
        "1.  Для каждой компании рассчитайте дневную доходность акций (процентное изменение цены закрытия).\n",
        "2.  Рассчитайте волатильность как стандартное отклонение дневной доходности.\n",
        "3.  Сделайте вывод, акции какой компании были более волатильными в данный период."
      ]
    },
    {
      "cell_type": "code",
      "execution_count": null,
      "metadata": {
        "id": "ybK2dnxmUH-f"
      },
      "outputs": [],
      "source": [
        "# Ваш код для расчета доходности\n",
        "df_a['Daily Return'] = df_a['Close'].pct_change()\n",
        "df_b['Daily Return'] = df_b['Close'].pct_change()\n",
        "\n",
        "# Ваш код для расчета волатильности\n",
        "volatility_a = df_a['Daily Return'].std()\n",
        "volatility_b = df_b['Daily Return'].std()\n",
        "\n",
        "print(f\"Волатильность AlphaTech: {volatility_a:.4f}\")\n",
        "print(f\"Волатильность BetaSolutions: {volatility_b:.4f}\")"
      ]
    },
    {
      "cell_type": "markdown",
      "metadata": {
        "id": "5u6X7RM8UH-f"
      },
      "source": [
        "**Вывод о волатильности:** *"
      ]
    },
    {
      "cell_type": "markdown",
      "metadata": {
        "id": "z_BhgE-eUH-f"
      },
      "source": [
        "### Задача 3: Корреляционный анализ\n",
        "\n",
        "Объедините данные по ценам закрытия обеих компаний в один DataFrame и рассчитайте корреляцию между ними. Прокомментируйте результат."
      ]
    },
    {
      "cell_type": "code",
      "execution_count": null,
      "metadata": {
        "id": "GipVfxnQUH-f"
      },
      "outputs": [],
      "source": [
        "# Ваш код для расчета корреляции\n",
        "df_merged = pd.DataFrame({\n",
        "    'AlphaTech_Close': df_a['Close'],\n",
        "    'BetaSolutions_Close': df_b['Close']\n",
        "})\n",
        "correlation = df_merged.corr()\n",
        "\n",
        "print(\"Матрица корреляций:\")\n",
        "print(correlation)"
      ]
    },
    {
      "cell_type": "markdown",
      "metadata": {
        "id": "cAfWI4GsUH-f"
      },
      "source": [
        "**Комментарий к результату:** *"
      ]
    },
    {
      "cell_type": "markdown",
      "metadata": {
        "id": "jztx8K35UH-f"
      },
      "source": [
        "### Задача 4: Визуализация\n",
        "\n",
        "Постройте на одном графике линейные диаграммы, показывающие динамику цен закрытия обеих компаний. Используйте `matplotlib` или `seaborn`."
      ]
    },
    {
      "cell_type": "code",
      "execution_count": null,
      "metadata": {
        "id": "LFZvcGvzUH-f"
      },
      "outputs": [],
      "source": [
        "# Ваш код для визуализации динамики цен\n",
        "plt.figure(figsize=(12, 6))\n",
        "plt.plot(df_a['Date'], df_a['Close'], label='AlphaTech')\n",
        "plt.plot(df_b['Date'], df_b['Close'], label='BetaSolutions')\n",
        "plt.title('Динамика цен акций')\n",
        "plt.xlabel('Дата')\n",
        "plt.ylabel('Цена закрытия')\n",
        "plt.legend()\n",
        "plt.grid(True)\n",
        "plt.show()"
      ]
    },
    {
      "cell_type": "markdown",
      "metadata": {
        "id": "HiRNpWUmUH-g"
      },
      "source": [
        "### Общий вывод\n",
        "\n",
        "На основе проведенного анализа, напишите итоговый вывод. Какая из компаний демонстрировала более высокую среднюю цену, но при этом была более рискованной (волатильной)? Как связаны движения цен этих двух акций?"
      ]
    },
    {
      "cell_type": "markdown",
      "metadata": {
        "id": "e2zDeqVbUH-g"
      },
      "source": [
        "**Ваш итоговый вывод:**\n",
        "\n",
        "*"
      ]
    }
  ],
  "metadata": {
    "kernelspec": {
      "display_name": "Python 3",
      "language": "python",
      "name": "python3"
    },
    "language_info": {
      "name": "python",
      "version": "3.9.12"
    },
    "colab": {
      "provenance": []
    }
  },
  "nbformat": 4,
  "nbformat_minor": 0
}