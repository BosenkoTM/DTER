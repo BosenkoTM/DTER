{
  "cells": [
    {
      "cell_type": "markdown",
      "metadata": {
        "id": "bJm47-73Tth-"
      },
      "source": [
        "# Задание 3: AI-ассистент в тематическом анализе и проектирование дашборда\n",
        "\n",
        "**Цель:** Продемонстрировать понимание методологии использования AI-ассистентов для анализа научной литературы и навыки проектирования аналитических дашбордов."
      ]
    },
    {
      "cell_type": "markdown",
      "metadata": {
        "id": "DAf2EyABTtiA"
      },
      "source": [
        "## Контекст\n",
        "\n",
        "Представьте, что вы проводите исследование на тему **\"Влияние ESG-факторов (Environmental, Social, Governance) на инвестиционную привлекательность компаний\"**. Вы использовали два источника:\n",
        "\n",
        "1.  **Библиометрические базы данных (e.g., eLibrary, Scopus)** для получения списка релевантных публикаций (`publications.csv`).\n",
        "2.  **AI-ассистент (e.g., Elicit)** для извлечения из этих статей ключевых метрик и моделей, которые авторы используют для оценки влияния ESG (`metrics.csv`)."
      ]
    },
    {
      "cell_type": "code",
      "execution_count": null,
      "metadata": {
        "id": "IOW_7BdGTtiA"
      },
      "outputs": [],
      "source": [
        "import pandas as pd\n",
        "from io import StringIO\n",
        "\n",
        "# --- Исходные данные ---\n",
        "# publications.csv\n",
        "publications_data = \"\"\"\n",
        "ID,Title,Authors,Year,Citations_RSCI,Industry,Source\n",
        "1,ESG Impact on Financials,Smith J.,2021,25,Finance,eLibrary\n",
        "2,Social Responsibility and Stock Prices,Chen L.,2022,40,IT,eLibrary\n",
        "3,Governance Models in Tech,Ivanov P.,2020,15,IT,eLibrary\n",
        "4,Environmental Factors in Energy Sector,Davis M.,2022,35,Energy,arXiv\n",
        "5,Corporate Governance and Profitability,Lee S.,2021,50,Finance,arXiv\n",
        "\"\"\"\n",
        "\n",
        "# metrics.csv (результат работы AI-ассистента)\n",
        "metrics_data = \"\"\"\n",
        "Metric,Industry,Source_Paper_Title,Frequency\n",
        "Carbon Emissions,Energy,Environmental Factors in Energy Sector,High\n",
        "Board Diversity,Finance,Corporate Governance and Profitability,High\n",
        "Employee Turnover,IT,Social Responsibility and Stock Prices,Medium\n",
        "ROA (Return on Assets),Finance,ESG Impact on Financials,High\n",
        "CEO Compensation Ratio,Finance,Corporate Governance and Profitability,Medium\n",
        "\"\"\"\n",
        "\n",
        "df_pubs = pd.read_csv(StringIO(publications_data))\n",
        "df_metrics = pd.read_csv(StringIO(metrics_data))\n",
        "\n",
        "print(\"Данные о публикациях:\")\n",
        "display(df_pubs)\n",
        "print(\"\\nИзвлеченные метрики:\")\n",
        "display(df_metrics)"
      ]
    },
    {
      "cell_type": "markdown",
      "metadata": {
        "id": "9airJm2WTtiB"
      },
      "source": [
        "### Задача 1: Формулировка промптов\n",
        "\n",
        "Чтобы получить данные из `metrics.csv`, необходимо было задать AI-ассистенту правильные вопросы. Сформулируйте **три аналитических вопроса (промпта)**, которые могли бы быть использованы для извлечения данных по трем отраслям (Finance, IT, Energy) на основе темы исследования."
      ]
    },
    {
      "cell_type": "markdown",
      "metadata": {
        "id": "C1UaoGhUTtiB"
      },
      "source": [
        "**Ваши промпты:**\n",
        "\n",
        "1.  **Для отрасли Finance:** *Ваш вопрос...*\n",
        "2.  **Для отрасли IT:** *Ваш вопрос...*\n",
        "3.  **Для отрасли Energy:** *Ваш вопрос...*"
      ]
    },
    {
      "cell_type": "markdown",
      "metadata": {
        "id": "pk1_Hja-TtiB"
      },
      "source": [
        "### Задача 2: Объединение и подготовка данных\n",
        "\n",
        "Хотя в данном задании файлы уже разделены, для дашборда было бы полезно иметь единый источник по публикациям. Объедините `df_pubs` и `df_metrics` в один DataFrame, используя название статьи (`Title` и `Source_Paper_Title`) в качестве ключа. Назовите новый DataFrame `df_combined`."
      ]
    },
    {
      "cell_type": "code",
      "execution_count": null,
      "metadata": {
        "id": "dcYsJFDcTtiB"
      },
      "outputs": [],
      "source": [
        "# Ваш код для объединения DataFrame\n",
        "df_combined = pd.merge(\n",
        "    df_pubs,\n",
        "    df_metrics,\n",
        "    left_on='Title',\n",
        "    right_on='Source_Paper_Title',\n",
        "    how='left'\n",
        ")\n",
        "\n",
        "display(df_combined)"
      ]
    },
    {
      "cell_type": "markdown",
      "metadata": {
        "id": "SzPnuqb2TtiB"
      },
      "source": [
        "### Задача 3: Проектирование дашборда\n",
        "\n",
        "Опишите структуру интерактивного дашборда (например, в Yandex Datalens или Power BI), который можно было бы создать на основе полученных данных (`df_pubs` и `df_metrics`).\n",
        "\n",
        "**Укажите как минимум 5 виджетов и опишите их назначение:**\n",
        "\n",
        "1.  **Виджет 1 (Фильтр/Селектор):**\n",
        "    -   **Тип:** Селектор по полю `Industry`.\n",
        "    -   **Назначение:** Позволит пользователю фильтровать все остальные виджеты на дашборде для анализа конкретной отрасли.\n",
        "\n",
        "2.  **Виджет 2:**\n",
        "    -   **Тип:** *... (например, Индикатор, Круговая диаграмма)*\n",
        "    -   **Назначение:** *...*\n",
        "\n",
        "3.  **Виджет 3:**\n",
        "    -   **Тип:** *... (например, Линейный график)*\n",
        "    -   **Назначение:** *...*\n",
        "\n",
        "4.  **Виджет 4:**\n",
        "    -   **Тип:** *... (например, Таблица или Облако слов)*\n",
        "    -   **Назначение:** *...*\n",
        "\n",
        "5.  **Виджет 5:**\n",
        "    -   **Тип:** *... (например, Столбчатая диаграмма)*\n",
        "    -   **Назначение:** *...*"
      ]
    },
    {
      "cell_type": "markdown",
      "metadata": {
        "id": "5kJ_p1AuTtiB"
      },
      "source": [
        "### Задача 4: Аналитический вывод\n",
        "\n",
        "На основе предоставленных данных, сделайте краткий вывод. Какие метрики являются наиболее популярными для оценки ESG в финансовой отрасли? Какая статья из представленных является наиболее цитируемой?"
      ]
    },
    {
      "cell_type": "markdown",
      "metadata": {
        "id": "9plMN4e_TtiC"
      },
      "source": [
        "**Ваш вывод:**\n",
        "\n",
        "*"
      ]
    }
  ],
  "metadata": {
    "kernelspec": {
      "display_name": "Python 3",
      "language": "python",
      "name": "python3"
    },
    "language_info": {
      "name": "python",
      "version": "3.9.12"
    },
    "colab": {
      "provenance": []
    }
  },
  "nbformat": 4,
  "nbformat_minor": 0
}