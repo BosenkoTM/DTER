{
  "cells": [
    {
      "cell_type": "markdown",
      "metadata": {
        "id": "9sDbICxwShAT"
      },
      "source": [
        "# Задание 1. Анализ портфеля проектов с использованием графов знаний\n",
        "\n",
        "**Цель.** Продемонстрировать умение моделировать сложные управленческие взаимосвязи (проекты, менеджеры, инвестиции, результаты) в виде графа знаний и извлекать аналитические инсайты с помощью SPARQL-запросов."
      ]
    },
    {
      "cell_type": "markdown",
      "metadata": {
        "id": "trwhmG06ShAU"
      },
      "source": [
        "## Исходные данные\n",
        "\n",
        "Ниже представлены данные о портфеле IT-проектов в компании."
      ]
    },
    {
      "cell_type": "code",
      "execution_count": null,
      "metadata": {
        "id": "LIJgl3RGShAV"
      },
      "outputs": [],
      "source": [
        "import pandas as pd\n",
        "from rdflib import Graph, Literal, RDF, RDFS, Namespace, URIRef\n",
        "from rdflib.namespace import XSD\n",
        "from pyvis.network import Network\n",
        "\n",
        "# Исходные данные в виде DataFrame\n",
        "data = {\n",
        "    'ProjectID': ['P01', 'P02', 'P03', 'P04', 'P05'],\n",
        "    'ProjectName': ['CRM Revamp', 'Cloud Migration', 'AI Analytics', 'Mobile App', 'Security Audit'],\n",
        "    'Manager': ['Anna', 'Boris', 'Anna', 'Ivan', 'Boris'],\n",
        "    'Investment': [150000, 250000, 300000, 120000, 80000],\n",
        "    'ROI': [0.15, 0.25, 0.30, 0.12, 0.05], # Return on Investment\n",
        "    'Status': ['Completed', 'InProgress', 'InProgress', 'Completed', 'Completed']\n",
        "}\n",
        "df = pd.DataFrame(data)\n",
        "\n",
        "print(\"Исходные данные:\")\n",
        "display(df)"
      ]
    },
    {
      "cell_type": "markdown",
      "metadata": {
        "id": "HuFdetj1ShAV"
      },
      "source": [
        "### Задача 1. Определение онтологии\n",
        "\n",
        "Определите простую онтологию для описания данных. Вам понадобятся:\n",
        "1.  **Пространства имен (Namespaces):** для данных (`ex`) и для схемы/онтологии (`schema`).\n",
        "2.  **Классы (Classes):** `Project`, `Manager`.\n",
        "3.  **Свойства (Properties):** `projectName`, `hasManager`, `investment`, `roi`, `status`."
      ]
    },
    {
      "cell_type": "code",
      "execution_count": null,
      "metadata": {
        "id": "WPWjQofqShAW"
      },
      "outputs": [],
      "source": [
        "# Ваш код для определения пространств имен и инициализации графа\n",
        "g = Graph()\n",
        "\n",
        "EX = Namespace(\"http://example.org/data/\")\n",
        "SCHEMA = Namespace(\"http://example.org/schema#\")\n",
        "\n",
        "g.bind(\"ex\", EX)\n",
        "g.bind(\"schema\", SCHEMA)\n",
        "g.bind(\"rdfs\", RDFS)\n",
        "\n",
        "# Ваш код для добавления классов и свойств в граф\n",
        "\n"
      ]
    },
    {
      "cell_type": "markdown",
      "metadata": {
        "id": "RW0YBlT-ShAW"
      },
      "source": [
        "### Задача 2. Преобразование данных в RDF-граф\n",
        "\n",
        "Используя цикл, пройдитесь по DataFrame `df` и наполните ваш граф `g` RDF-триплетами."
      ]
    },
    {
      "cell_type": "code",
      "execution_count": null,
      "metadata": {
        "id": "73mITPplShAW"
      },
      "outputs": [],
      "source": [
        "# Ваш код для наполнения графа данными из DataFrame\n",
        "for index, row in df.iterrows():\n",
        "    # Создание URIs для проекта и менеджера\n",
        "    project_uri = EX[row['ProjectID']]\n",
        "    manager_uri = EX[row['Manager'].replace(' ', '_')]\n",
        "\n",
        "    # Добавление триплетов\n",
        "\n",
        "\n",
        "print(f\"Граф успешно создан. Количество триплетов: {len(g)}\")"
      ]
    },
    {
      "cell_type": "markdown",
      "metadata": {
        "id": "aXUevLT6ShAW"
      },
      "source": [
        "### Задача 3: SPARQL-запросы\n",
        "\n",
        "Напишите и выполните SPARQL-запросы, чтобы ответить на следующие вопросы:\n",
        "\n",
        "1.  **Найти все проекты, которыми управляет 'Anna'**. Вывести их названия и объем инвестиций.\n",
        "2.  **Найти проекты со статусом 'InProgress' и ROI (возвратом на инвестиции) выше 0.20**. Отсортировать по убыванию ROI.\n",
        "3.  **Рассчитать общий объем инвестиций для каждого менеджера**. Вывести имя менеджера и суммарный объем инвестиций."
      ]
    },
    {
      "cell_type": "code",
      "execution_count": null,
      "metadata": {
        "id": "P5pfhpI6ShAW"
      },
      "outputs": [],
      "source": [
        "# Запрос 1: Проекты Анны\n",
        "q1 = \"\"\"\n",
        "PREFIX schema: <http://example.org/schema#>\n",
        "PREFIX ex: <http://example.org/data/>\n",
        "\n",
        "SELECT ?projectName ?investment\n",
        "WHERE {\n",
        "    # Ваш код запроса\n",
        "}\n",
        "\"\"\"\n",
        "\n",
        "print(\"--- Проекты под управлением Анны ---\")\n",
        "for row in g.query(q1):\n",
        "    print(f\"Проект: {row.projectName}, Инвестиции: {row.investment}\")"
      ]
    },
    {
      "cell_type": "code",
      "execution_count": null,
      "metadata": {
        "id": "FeUYUf49ShAW"
      },
      "outputs": [],
      "source": [
        "# Запрос 2: Проекты в работе с высоким ROI\n",
        "q2 = \"\"\"\n",
        "PREFIX schema: <http://example.org/schema#>\n",
        "PREFIX xsd: <http://www.w3.org/2001/XMLSchema#>\n",
        "\n",
        "SELECT ?projectName ?roi\n",
        "WHERE {\n",
        "    # Ваш код запроса\n",
        "}\n",
        "ORDER BY DESC(?roi)\n",
        "\"\"\"\n",
        "\n",
        "print(\"\\n--- Проекты в работе с ROI > 0.20 ---\")\n",
        "for row in g.query(q2):\n",
        "    print(f\"Проект: {row.projectName}, ROI: {row.roi}\")"
      ]
    },
    {
      "cell_type": "code",
      "execution_count": null,
      "metadata": {
        "id": "NlpgSe1TShAW"
      },
      "outputs": [],
      "source": [
        "# Запрос 3: Суммарные инвестиции по менеджерам\n",
        "q3 = \"\"\"\n",
        "PREFIX schema: <http://example.org/schema#>\n",
        "PREFIX rdfs: <http://www.w3.org/2000/01/rdf-schema#>\n",
        "\n",
        "SELECT ?managerName (SUM(?investment) AS ?totalInvestment)\n",
        "WHERE {\n",
        "    # Ваш код запроса\n",
        "}\n",
        "GROUP BY ?managerName\n",
        "\"\"\"\n",
        "\n",
        "print(\"\\n--- Суммарные инвестиции по менеджерам ---\")\n",
        "for row in g.query(q3):\n",
        "    print(f\"Менеджер: {row.managerName}, Сумма инвестиций: {row.totalInvestment}\")"
      ]
    },
    {
      "cell_type": "markdown",
      "metadata": {
        "id": "K1g9jjG0ShAX"
      },
      "source": [
        "### Задача 4. Визуализация\n",
        "\n",
        "Визуализируйте фрагмент графа, показывающий проекты, которыми управляет **'Boris'**, и их характеристики. Используйте библиотеку `pyvis`."
      ]
    },
    {
      "cell_type": "code",
      "execution_count": null,
      "metadata": {
        "id": "RT0U1_nWShAX"
      },
      "outputs": [],
      "source": [
        "net = Network(notebook=True, directed=True)\n",
        "\n",
        "# SPARQL-запрос для получения данных для визуализации (проекты Бориса)\n",
        "q_vis = \"\"\"\n",
        "PREFIX schema: <http://example.org/schema#>\n",
        "PREFIX ex: <http://example.org/data/>\n",
        "\n",
        "SELECT ?project ?projectName ?manager\n",
        "WHERE {\n",
        "    ?project schema:hasManager ex:Boris .\n",
        "    ?project schema:projectName ?projectName .\n",
        "    ?project schema:hasManager ?manager .\n",
        "}\n",
        "\"\"\"\n",
        "\n",
        "for row in g.query(q_vis):\n",
        "    net.add_node(str(row.project), label=str(row.projectName), color='skyblue')\n",
        "    net.add_node(str(row.manager), label='Boris', color='orange')\n",
        "    net.add_edge(str(row.project), str(row.manager), label='managed_by')\n",
        "\n",
        "net.show(\"boris_projects.html\")"
      ]
    },
    {
      "cell_type": "markdown",
      "metadata": {
        "id": "ychJemRjShAX"
      },
      "source": [
        "### Выводы\n",
        "\n",
        "Напишите краткий вывод о том, какие преимущества дал графовый подход для решения поставленных аналитических задач по сравнению с использованием только табличных данных."
      ]
    },
    {
      "cell_type": "markdown",
      "metadata": {
        "id": "OxGgJhz6ShAX"
      },
      "source": [
        "**Ваш вывод:**\n",
        "\n",
        "*"
      ]
    }
  ],
  "metadata": {
    "kernelspec": {
      "display_name": "Python 3",
      "language": "python",
      "name": "python3"
    },
    "language_info": {
      "name": "python",
      "version": "3.9.12"
    },
    "colab": {
      "provenance": []
    }
  },
  "nbformat": 4,
  "nbformat_minor": 0
}