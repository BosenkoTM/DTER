{
  "cells": [
    {
      "cell_type": "markdown",
      "metadata": {
        "id": "rjcc5YiATWIK"
      },
      "source": [
        "# Задание 2: Динамический веб-скрейпинг и анализ финансовых коэффициентов\n",
        "\n",
        "**Цель:** Продемонстрировать навыки извлечения данных с динамических веб-сайтов и проведения базового финансового анализа."
      ]
    },
    {
      "cell_type": "markdown",
      "metadata": {
        "id": "HiLK9iyRTWIM"
      },
      "source": [
        "### Задача 1: Установка библиотек\n",
        "\n",
        "Установите `playwright` и необходимые браузеры."
      ]
    },
    {
      "cell_type": "code",
      "execution_count": null,
      "metadata": {
        "id": "ZMJG5RtVTWIM"
      },
      "outputs": [],
      "source": [
        "!pip install playwright\n",
        "!playwright install"
      ]
    },
    {
      "cell_type": "markdown",
      "metadata": {
        "id": "a4mbktzrTWIN"
      },
      "source": [
        "### Задача 2: Извлечение данных\n",
        "\n",
        "Используя `playwright`, напишите асинхронный скрипт для перехода на страницу **Yahoo Finance** для компании **Tesla (TSLA)**. Перейдите в раздел **Financials -> Income Statement**.\n",
        "\n",
        "**URL:** `https://finance.yahoo.com/quote/TSLA/financials`\n",
        "\n",
        "Извлеките следующие данные за последние 4 года (включая 'TTM' - Trailing Twelve Months):\n",
        "-   Годы/Периоды\n",
        "-   Total Revenue (Общая выручка)\n",
        "-   Net Income (Чистая прибыль)\n",
        "\n",
        "Затем перейдите на вкладку **Balance Sheet** и извлеките:\n",
        "-   Total Assets (Всего активов)\n",
        "-   Total Liabilities Net Minority Interest (Всего обязательств)\n",
        "\n",
        "*Подсказка: Yahoo Finance загружает данные динамически. Вам нужно будет использовать `page.wait_for_selector` и, возможно, `locator` с `xpath` для надежного извлечения.*"
      ]
    },
    {
      "cell_type": "code",
      "execution_count": null,
      "metadata": {
        "id": "jc8y1KxLTWIN"
      },
      "outputs": [],
      "source": [
        "import pandas as pd\n",
        "from playwright.async_api import async_playwright\n",
        "import asyncio\n",
        "\n",
        "async def main():\n",
        "    async with async_playwright() as p:\n",
        "        browser = await p.chromium.launch()\n",
        "        page = await browser.new_page()\n",
        "\n",
        "        # --- ШАГ 1: Извлечение данных из Income Statement ---\n",
        "        url_income = 'https://finance.yahoo.com/quote/TSLA/financials'\n",
        "        await page.goto(url_income, timeout=60000)\n",
        "        print(\"Страница Income Statement загружена\")\n",
        "\n",
        "        # Ожидание загрузки таблицы\n",
        "        await page.wait_for_selector(\"//div[contains(@class, 'table-container')]\")\n",
        "\n",
        "        # Ваш код для извлечения данных (годы, выручка, чистая прибыль)\n",
        "\n",
        "\n",
        "        # --- ШАГ 2: Извлечение данных из Balance Sheet ---\n",
        "        url_balance = 'https://finance.yahoo.com/quote/TSLA/balance-sheet'\n",
        "        await page.goto(url_balance, timeout=60000)\n",
        "        print(\"Страница Balance Sheet загружена\")\n",
        "\n",
        "        # Ожидание загрузки таблицы\n",
        "        await page.wait_for_selector(\"//div[contains(@class, 'table-container')]\")\n",
        "\n",
        "        # Ваш код для извлечения данных (активы, обязательства)\n",
        "\n",
        "\n",
        "        await browser.close()\n",
        "\n",
        "        # --- ШАГ 3: Создание DataFrame ---\n",
        "        # Соберите все извлеченные данные в один pandas DataFrame\n",
        "        # Колонки: Period, Total Revenue, Net Income, Total Assets, Total Liabilities\n",
        "\n",
        "        # Глобальная переменная для доступа к DataFrame после выполнения\n",
        "        global df_financials\n",
        "        # df_financials = pd.DataFrame(....)\n",
        "\n",
        "# Запуск асинхронной функции\n",
        "await main()"
      ]
    },
    {
      "cell_type": "markdown",
      "metadata": {
        "id": "bbtHen3pTWIN"
      },
      "source": [
        "### Задача 3: Очистка данных и расчет коэффициентов\n",
        "\n",
        "Данные, извлеченные с сайта, скорее всего будут в текстовом формате с запятыми (e.g., `'9,677,319'`).\n",
        "1.  Очистите данные, удалив запятые, и преобразуйте их в числовой формат (float или int). Умножьте значения на 1000, так как на сайте они представлены в тысячах.\n",
        "2.  Рассчитайте два коэффициента для каждого периода:\n",
        "    -   **ROA (Return on Assets)** = `Net Income / Total Assets`\n",
        "    -   **Debt-to-Equity** = `Total Liabilities / (Total Assets - Total Liabilities)`"
      ]
    },
    {
      "cell_type": "code",
      "execution_count": null,
      "metadata": {
        "id": "0A89VXjXTWIO"
      },
      "outputs": [],
      "source": [
        "# Ваш код для очистки данных\n",
        "# df_financials['Total Revenue'] = df_financials['Total Revenue'].str.replace(',', '').astype(float) * 1000\n",
        "\n",
        "# Ваш код для расчета коэффициентов\n",
        "# df_financials['ROA'] = ...\n",
        "\n",
        "display(df_financials)"
      ]
    },
    {
      "cell_type": "markdown",
      "metadata": {
        "id": "ZJxpmGKUTWIO"
      },
      "source": [
        "### Задача 4: Визуализация\n",
        "\n",
        "Постройте два графика для визуализации динамики рассчитанных коэффициентов по годам. Сделайте выводы."
      ]
    },
    {
      "cell_type": "code",
      "execution_count": null,
      "metadata": {
        "id": "Uc3yX3yRTWIO"
      },
      "outputs": [],
      "source": [
        "import matplotlib.pyplot as plt\n",
        "\n",
        "# Ваш код для построения графиков ROA и Debt-to-Equity\n"
      ]
    },
    {
      "cell_type": "markdown",
      "metadata": {
        "id": "SsnaX44KTWIO"
      },
      "source": [
        "### Выводы\n",
        "\n",
        "Напишите краткий вывод по результатам анализа. Как изменилась рентабельность и финансовая устойчивость компании за последние годы?"
      ]
    },
    {
      "cell_type": "markdown",
      "metadata": {
        "id": "WV-zH9wqTWIO"
      },
      "source": [
        "**Ваш вывод:**\n",
        "\n",
        "*"
      ]
    }
  ],
  "metadata": {
    "kernelspec": {
      "display_name": "Python 3",
      "language": "python",
      "name": "python3"
    },
    "language_info": {
      "name": "python",
      "version": "3.9.12"
    },
    "colab": {
      "provenance": []
    }
  },
  "nbformat": 4,
  "nbformat_minor": 0
}